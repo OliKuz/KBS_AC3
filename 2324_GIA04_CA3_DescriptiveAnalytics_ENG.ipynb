{
 "cells": [
  {
   "cell_type": "markdown",
   "id": "9a2fa209",
   "metadata": {
    "lang": "en"
   },
   "source": [
    "# Evaluation of sixth grade of primary education"
   ]
  },
  {
   "cell_type": "markdown",
   "id": "446ff94a",
   "metadata": {
    "lang": "en"
   },
   "source": [
    "## Context\n",
    "The dataset *educacio.csv* contains the results obtained by sixth grade students in the assessment of basic skills and knowledge at the end of primary education since 2018.\n",
    "\n",
    "We want to analyze this data set to provide information about the profile of 6th grade students and their annual evolution.\n",
    "\n",
    "**Description of the columns**\n",
    "* ANY: year in which the assessment took place.\n",
    "* PCAT: overall weighted score of linguistic competence in the Catalan language.\n",
    "* PCAST: weighted global score of linguistic competence in the Spanish language.\n",
    "* PMAT: overall weighted math proficiency score.\n",
    "* PANG: weighted global score of linguistic competence in the English language.\n",
    "* PMED: global score of the competence associated with the area of knowledge of the natural environment.\n",
    "* GENERE: gender of the student taking the assessment.\n",
    "* ANY_NAIXEMENT: year of birth of the student taking the assessment.\n",
    "* AREA_TERRITORIAL: region where the center of the student appearing for the assessment is located.\n",
    "* NATURALESA: determines whether the student's center is public or private.\n",
    "* HABITAT: municipalities by population sections."
   ]
  },
  {
   "cell_type": "markdown",
   "id": "4d29be35",
   "metadata": {},
   "source": [
    "### Imports"
   ]
  },
  {
   "cell_type": "code",
   "execution_count": null,
   "id": "765e4533",
   "metadata": {},
   "outputs": [],
   "source": [
    "import pandas as pd\n",
    "import matplotlib.pyplot as plt\n",
    "import seaborn as sns"
   ]
  },
  {
   "cell_type": "markdown",
   "id": "26e9472d",
   "metadata": {},
   "source": [
    "### Load the datasets "
   ]
  },
  {
   "cell_type": "code",
   "execution_count": null,
   "id": "d616175c",
   "metadata": {},
   "outputs": [],
   "source": [
    "data_frame = pd.read_csv('educacio.csv')"
   ]
  },
  {
   "cell_type": "markdown",
   "id": "a17e840e",
   "metadata": {
    "lang": "en"
   },
   "source": [
    "## 1. Students analysis"
   ]
  },
  {
   "cell_type": "markdown",
   "id": "d7329fd5",
   "metadata": {
    "lang": "en"
   },
   "source": [
    "1\\.1. Show in different graphs the number of students per year, per year and nature, per year and gender, and per year and habitat.<br>"
   ]
  },
  {
   "cell_type": "code",
   "execution_count": null,
   "id": "ca2e97bc",
   "metadata": {},
   "outputs": [],
   "source": [
    "# 1.1.1 Students per year\n",
    "\n",
    "students_per_year = data_frame.groupby('ANY').size()\n",
    "\n",
    "students_per_year.plot(kind='bar', title='Students per year')\n",
    "plt.show()"
   ]
  },
  {
   "cell_type": "code",
   "execution_count": null,
   "id": "98896863",
   "metadata": {},
   "outputs": [],
   "source": [
    "# 1.1.2 Students per year and nature\n",
    "\n",
    "students_per_year_and_nature = data_frame.groupby(['ANY', 'NATURALESA']).size().unstack(fill_value=0)\n",
    "\n",
    "students_per_year_and_nature.plot(kind='bar', stacked=True)\n",
    "plt.title('Number of Students per Year by Nature')\n",
    "plt.xlabel('Year')\n",
    "plt.ylabel('Number of Students')\n",
    "plt.legend(title='Nature')\n",
    "plt.show()"
   ]
  },
  {
   "cell_type": "code",
   "execution_count": null,
   "id": "c5c79aab",
   "metadata": {},
   "outputs": [],
   "source": [
    "# 1.1.3 Students per year and gender\n",
    "\n",
    "students_per_year_and_gender = data_frame.groupby(['ANY', 'GENERE']).size().unstack(fill_value=0)\n",
    "\n",
    "students_per_year_and_gender.plot(kind='bar', stacked=True)\n",
    "plt.title('Number of Students per Year by Gender')\n",
    "plt.xlabel('Year')\n",
    "plt.ylabel('Number of Students')\n",
    "plt.legend(title='Gender')\n",
    "plt.show()"
   ]
  },
  {
   "cell_type": "code",
   "execution_count": null,
   "id": "4df85ae5",
   "metadata": {},
   "outputs": [],
   "source": [
    "# 1.1.4 Students per year and habitat\n",
    "\n",
    "students_per_year_and_habitat = data_frame.groupby(['ANY', 'HABITAT']).size().unstack(fill_value=0)\n",
    "\n",
    "students_per_year_and_habitat.plot(kind='bar', stacked=True)\n",
    "plt.title('Number of Students per Year by Habitat')\n",
    "plt.xlabel('Year')\n",
    "plt.ylabel('Number of Students')\n",
    "plt.legend(title='Habitat')\n",
    "plt.show()"
   ]
  },
  {
   "cell_type": "markdown",
   "id": "4e1fd48a",
   "metadata": {},
   "source": [
    "1\\.2. Discuss your conclusions."
   ]
  },
  {
   "cell_type": "markdown",
   "id": "1b962731",
   "metadata": {},
   "source": []
  },
  {
   "cell_type": "markdown",
   "id": "7a925fb9",
   "metadata": {
    "lang": "en"
   },
   "source": [
    "## 2. Analysis of the grade average"
   ]
  },
  {
   "cell_type": "markdown",
   "id": "48fdbc49",
   "metadata": {
    "lang": "en"
   },
   "source": [
    "2\\.1. Calculate the average of the 5 grades (PCAST, PCAT, PANG, PMAT and PMED) and add them to the data.<br>"
   ]
  },
  {
   "cell_type": "code",
   "execution_count": null,
   "id": "0fbcdd69",
   "metadata": {},
   "outputs": [],
   "source": [
    "# 2.1 Avg of 5 grades\n",
    "\n",
    "data_frame['Average_Grade'] = data_frame[['PCAST', 'PCAT', 'PANG', 'PMAT', 'PMED']].mean(axis=1)\n",
    "\n",
    "print(data_frame[['PCAST', 'PCAT', 'PANG', 'PMAT', 'PMED', 'Average_Grade']].head()) #gets some sampling"
   ]
  },
  {
   "cell_type": "markdown",
   "id": "d653bd52",
   "metadata": {},
   "source": [
    "2\\.2. Display a histogram of the average of the 5 grades you computed.<br>"
   ]
  },
  {
   "cell_type": "code",
   "execution_count": null,
   "id": "ee32f66a",
   "metadata": {},
   "outputs": [],
   "source": [
    "# 2.2 Histogram\n",
    "\n",
    "sns.histplot(data_frame['Average_Grade'], kde=True, bins=20)\n",
    "plt.title('Histogram of Average Grades')\n",
    "plt.xlabel('Average Grade')\n",
    "plt.ylabel('Number of Students')\n",
    "plt.show()"
   ]
  },
  {
   "cell_type": "markdown",
   "id": "b42eda45",
   "metadata": {},
   "source": [
    "2\\.3. Discuss your conclusions."
   ]
  },
  {
   "cell_type": "markdown",
   "id": "e4cbb27c",
   "metadata": {},
   "source": []
  },
  {
   "cell_type": "markdown",
   "id": "10cdb77a",
   "metadata": {
    "lang": "en"
   },
   "source": [
    "## 3. Analyses of the quartiles of the grades"
   ]
  },
  {
   "cell_type": "markdown",
   "id": "7941e89e",
   "metadata": {},
   "source": [
    "### prepare the data"
   ]
  },
  {
   "cell_type": "code",
   "execution_count": null,
   "id": "403587b3",
   "metadata": {},
   "outputs": [],
   "source": [
    "grades_columns = ['PCAST', 'PCAT', 'PANG', 'PMAT', 'PMED', 'Average_Grade']\n",
    "df_melted = data_frame.melt(id_vars=['ANY', 'GENERE', 'NATURALESA', 'HABITAT', 'AREA_TERRITORIAL'], value_vars=grades_columns, var_name='Test', value_name='Score')"
   ]
  },
  {
   "cell_type": "markdown",
   "id": "54c90a51",
   "metadata": {},
   "source": [
    "3\\.1. Show the boxplots of the 5 tests and the average per year.<br>"
   ]
  },
  {
   "cell_type": "code",
   "execution_count": null,
   "id": "29093192",
   "metadata": {},
   "outputs": [],
   "source": [
    "# 3.1 \n",
    "plt.figure(figsize=(12, 8))\n",
    "sns.boxplot(x='ANY', y='Score', hue='Test', data=df_melted)\n",
    "plt.title('5 tests and the average per year')\n",
    "plt.xlabel('Year')\n",
    "plt.ylabel('Scores')\n",
    "plt.legend(title='Group Avg score')\n",
    "plt.show()"
   ]
  },
  {
   "cell_type": "markdown",
   "id": "3ef2723f",
   "metadata": {},
   "source": [
    "3\\.2. Show the boxplots of the 5 tests and the average by gender.<br>"
   ]
  },
  {
   "cell_type": "code",
   "execution_count": null,
   "id": "b6587c68",
   "metadata": {},
   "outputs": [],
   "source": [
    "#3.2 \n",
    "plt.figure(figsize=(12, 8))\n",
    "sns.boxplot(x='GENERE', y='Score', hue='Test', data=df_melted)\n",
    "plt.title('5 tests and the average by gender')\n",
    "plt.xlabel('Gender')\n",
    "plt.ylabel('Score')\n",
    "plt.legend(title='Group Avg score')\n",
    "plt.show()"
   ]
  },
  {
   "cell_type": "markdown",
   "id": "93229879",
   "metadata": {},
   "source": [
    "3\\.3. Show the boxplots of the 5 tests and the average by NATURALESA (public or private).<br>"
   ]
  },
  {
   "cell_type": "code",
   "execution_count": null,
   "id": "b6bd0f57",
   "metadata": {},
   "outputs": [],
   "source": [
    "#3.3\n",
    "plt.figure(figsize=(12, 8))\n",
    "sns.boxplot(x='NATURALESA', y='Score', hue='Test', data=df_melted)\n",
    "plt.title('5 tests and the average by NATURALESA (public or private)')\n",
    "plt.xlabel('NATURALESA')\n",
    "plt.ylabel('Score')\n",
    "plt.legend(title='Group Avg score')\n",
    "plt.show()\n"
   ]
  },
  {
   "cell_type": "markdown",
   "id": "b25b7210",
   "metadata": {},
   "source": [
    "3\\.4. Show the boxplots of the 5 tests and the average per municipality.<br>"
   ]
  },
  {
   "cell_type": "code",
   "execution_count": null,
   "id": "dfee30da",
   "metadata": {},
   "outputs": [],
   "source": [
    "# 3.4\n",
    "\n",
    "plt.figure(figsize=(12, 8))\n",
    "sns.boxplot(x='HABITAT', y='Score', hue='Test', data=df_melted)\n",
    "plt.title('5 tests and the average per municipality')\n",
    "plt.xlabel('Municipality')\n",
    "plt.ylabel('Scores')\n",
    "plt.legend(title='Group Avg score', loc='right')\n",
    "plt.show()"
   ]
  },
  {
   "cell_type": "markdown",
   "metadata": {},
   "source": [
    "3\\.5. Show the boxplots of the 5 tests and the average per region.<br>"
   ]
  },
  {
   "cell_type": "code",
   "execution_count": null,
   "id": "6507beef",
   "metadata": {},
   "outputs": [],
   "source": [
    "#3.5\n",
    "plt.figure(figsize=(12, 8))\n",
    "sns.boxplot(x='AREA_TERRITORIAL', y='Score', hue='Test', data=df_melted)\n",
    "plt.title('5 tests and the average per region')\n",
    "plt.xlabel('Region')\n",
    "plt.ylabel('Scores')\n",
    "plt.legend(title='Group Avg score', loc='right')\n",
    "plt.xticks(rotation=45)\n",
    "plt.tight_layout() \n",
    "plt.show()"
   ]
  },
  {
   "cell_type": "markdown",
   "id": "ffe4ce9b",
   "metadata": {},
   "source": [
    "3\\.6. Discuss the conclusions you have drawn."
   ]
  },
  {
   "cell_type": "markdown",
   "id": "3339094d",
   "metadata": {},
   "source": []
  },
  {
   "cell_type": "markdown",
   "id": "ebc8a2e8",
   "metadata": {
    "lang": "en"
   },
   "source": [
    "## 4. Correlation analysis"
   ]
  },
  {
   "cell_type": "markdown",
   "id": "68e018a1",
   "metadata": {
    "lang": "en"
   },
   "source": [
    "4\\.1. Display the correlation matrix of the variables. Convert to numeric the ones you think are necessary (justify it).<br>\n",
    "4\\.2. Discuss you conclusions."
   ]
  },
  {
   "cell_type": "markdown",
   "id": "d67d3af8",
   "metadata": {
    "lang": "en"
   },
   "source": [
    "## 5. Additional analyses"
   ]
  },
  {
   "cell_type": "markdown",
   "id": "71688d72",
   "metadata": {
    "lang": "en"
   },
   "source": [
    "5\\.1. Add any additional analyses you deem appropriate.<br>\n",
    "5\\.2. Discuss you conclusions."
   ]
  },
  {
   "cell_type": "markdown",
   "id": "68a94443",
   "metadata": {
    "lang": "en"
   },
   "source": [
    "## 6. Identification of student types (OPTIONAL)"
   ]
  },
  {
   "cell_type": "markdown",
   "id": "y4nkCPd-8vo6",
   "metadata": {
    "id": "y4nkCPd-8vo6"
   },
   "source": [
    "6\\.1. Apply the clustering algorithm k-means on the grades of the 5 subjects. Analyse the results obtained with different numbers of clusters and choose the grouping that you consider most appropriate. Justify the answer. <br>\n",
    "\n",
    "6\\.2. About the chosen solution, explain what type of student belongs to each cluster group. You can use boxplots or histograms discriminating by the cluster identifier (you will have to add the cluster assigned to each row to the student table). \n",
    "To save the cluster assigned to each student in the data table, you can do (data is the dataframe that contains the students' data and kmeans the KMeans object):<br>\n",
    "`dades['cluster'] = kmeans.labels_`"
   ]
  }
 ],
 "metadata": {
  "colab": {
   "provenance": []
  },
  "kernelspec": {
   "display_name": "Python 3 (ipykernel)",
   "language": "python",
   "name": "python3"
  },
  "language_info": {
   "codemirror_mode": {
    "name": "ipython",
    "version": 3
   },
   "file_extension": ".py",
   "mimetype": "text/x-python",
   "name": "python",
   "nbconvert_exporter": "python",
   "pygments_lexer": "ipython3",
   "version": "3.11.8"
  },
  "latex_envs": {
   "LaTeX_envs_menu_present": true,
   "autoclose": false,
   "autocomplete": true,
   "bibliofile": "biblio.bib",
   "cite_by": "apalike",
   "current_citInitial": 1,
   "eqLabelWithNumbers": true,
   "eqNumInitial": 1,
   "hotkeys": {
    "equation": "Ctrl-E",
    "itemize": "Ctrl-I"
   },
   "labels_anchors": false,
   "latex_user_defs": false,
   "report_style_numbering": false,
   "user_envs_cfg": false
  },
  "nbTranslate": {
   "displayLangs": [],
   "hotkey": "alt-t",
   "langInMainMenu": true,
   "sourceLang": "ca",
   "targetLang": "en",
   "useGoogleTranslate": true
  },
  "toc": {
   "base_numbering": 1,
   "nav_menu": {},
   "number_sections": true,
   "sideBar": true,
   "skip_h1_title": false,
   "title_cell": "Table of Contents",
   "title_sidebar": "Contents",
   "toc_cell": false,
   "toc_position": {},
   "toc_section_display": true,
   "toc_window_display": false
  },
  "varInspector": {
   "cols": {
    "lenName": 16,
    "lenType": 16,
    "lenVar": 40
   },
   "kernels_config": {
    "python": {
     "delete_cmd_postfix": "",
     "delete_cmd_prefix": "del ",
     "library": "var_list.py",
     "varRefreshCmd": "print(var_dic_list())"
    },
    "r": {
     "delete_cmd_postfix": ") ",
     "delete_cmd_prefix": "rm(",
     "library": "var_list.r",
     "varRefreshCmd": "cat(var_dic_list()) "
    }
   },
   "types_to_exclude": [
    "module",
    "function",
    "builtin_function_or_method",
    "instance",
    "_Feature"
   ],
   "window_display": false
  }
 },
 "nbformat": 4,
 "nbformat_minor": 5
}
